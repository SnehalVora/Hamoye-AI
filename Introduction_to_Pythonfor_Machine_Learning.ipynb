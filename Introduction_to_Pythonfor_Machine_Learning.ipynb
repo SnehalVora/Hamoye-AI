{
  "nbformat": 4,
  "nbformat_minor": 0,
  "metadata": {
    "colab": {
      "name": "Introduction to Pythonfor Machine Learning.ipynb",
      "provenance": [],
      "collapsed_sections": [],
      "authorship_tag": "ABX9TyNXr9l/TeuwREay6jleDeun",
      "include_colab_link": true
    },
    "kernelspec": {
      "name": "python3",
      "display_name": "Python 3"
    },
    "language_info": {
      "name": "python"
    }
  },
  "cells": [
    {
      "cell_type": "markdown",
      "metadata": {
        "id": "view-in-github",
        "colab_type": "text"
      },
      "source": [
        "<a href=\"https://colab.research.google.com/github/SnehalVora/Hamoye-AI/blob/main/Introduction_to_Pythonfor_Machine_Learning.ipynb\" target=\"_parent\"><img src=\"https://colab.research.google.com/assets/colab-badge.svg\" alt=\"Open In Colab\"/></a>"
      ]
    },
    {
      "cell_type": "code",
      "metadata": {
        "id": "9EH2k5PZMvJY"
      },
      "source": [
        "import pandas as pd\n",
        "url = 'https://raw.githubusercontent.com/WalePhenomenon/climate_change/master/fuel_ferc1.csv'\n",
        "\n",
        "data = pd.read_csv(url,error_bad_lines=False)\n",
        "print(data.head())\n",
        "data.describe()\n",
        "\n"
      ],
      "execution_count": null,
      "outputs": []
    },
    {
      "cell_type": "code",
      "metadata": {
        "id": "F0oZDtn2Q8Uk"
      },
      "source": [
        "#check for duplicate rows\n",
        "data.duplicated().any()"
      ],
      "execution_count": null,
      "outputs": []
    },
    {
      "cell_type": "code",
      "metadata": {
        "id": "feOr40gpRNPM"
      },
      "source": [
        "#check for missing values\n",
        "data.isnull().sum()"
      ],
      "execution_count": null,
      "outputs": []
    },
    {
      "cell_type": "code",
      "metadata": {
        "id": "5HHOJan0cFLg"
      },
      "source": [
        ""
      ],
      "execution_count": null,
      "outputs": []
    },
    {
      "cell_type": "code",
      "metadata": {
        "id": "GlWKVTMdRbAD"
      },
      "source": [
        "data.skew()\n",
        "\n"
      ],
      "execution_count": null,
      "outputs": []
    },
    {
      "cell_type": "code",
      "metadata": {
        "id": "zKsFxI1_a9KS"
      },
      "source": [
        "data.kurtosis()\n"
      ],
      "execution_count": null,
      "outputs": []
    },
    {
      "cell_type": "code",
      "metadata": {
        "id": "fgZ7r-ndcRMt"
      },
      "source": [
        "data.info()"
      ],
      "execution_count": null,
      "outputs": []
    },
    {
      "cell_type": "code",
      "metadata": {
        "id": "OmkJewOwch7t"
      },
      "source": [
        "180/29523"
      ],
      "execution_count": null,
      "outputs": []
    },
    {
      "cell_type": "code",
      "metadata": {
        "id": "2_n-xg07eDuO"
      },
      "source": [
        "import pandas as pd\n",
        "import seaborn as sn\n",
        "import matplotlib.pyplot as plt\n",
        "\n",
        "corrMatrix = data.corr()\n",
        "sn.heatmap(corrMatrix, annot=True)\n",
        "plt.show()"
      ],
      "execution_count": null,
      "outputs": []
    },
    {
      "cell_type": "code",
      "metadata": {
        "id": "aDtuuDbLfCIF"
      },
      "source": [
        "import seaborn as sns\n",
        "sns.barplot(data=data, x='report_year', y='fuel_cost_per_unit_delivered', alpha=0.5)\n",
        "#plt.xlim([-7, 7])\n",
        "plt.xlabel('Year')\n"
      ],
      "execution_count": null,
      "outputs": []
    },
    {
      "cell_type": "code",
      "metadata": {
        "id": "LhHApS7Wh80L"
      },
      "source": [
        "import seaborn as sns\n",
        "sns.barplot(data=data, x='report_year', y='fuel_cost_per_unit_burned', alpha=0.5)\n",
        "#plt.xlim([-7, 7])\n",
        "plt.xlabel('Year')"
      ],
      "execution_count": null,
      "outputs": []
    }
  ]
}